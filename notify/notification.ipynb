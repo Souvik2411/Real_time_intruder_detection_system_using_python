{
 "cells": [
  {
   "cell_type": "code",
   "execution_count": 6,
   "id": "8b8dc5b4",
   "metadata": {},
   "outputs": [],
   "source": [
    "from pushbullet import Pushbullet"
   ]
  },
  {
   "cell_type": "code",
   "execution_count": 7,
   "id": "645e74b5",
   "metadata": {},
   "outputs": [],
   "source": [
    "API_KEY = \"o.QLICL6EDs86MVmUT2c0u8E8X0wxncQ8x\"\n",
    "file=\"message.txt\""
   ]
  },
  {
   "cell_type": "code",
   "execution_count": 8,
   "id": "31c96405",
   "metadata": {},
   "outputs": [],
   "source": [
    "with open(file,mode='r') as f:\n",
    "    text=f.read()"
   ]
  },
  {
   "cell_type": "code",
   "execution_count": 9,
   "id": "72cebea2",
   "metadata": {},
   "outputs": [],
   "source": [
    "pb=Pushbullet(API_KEY)\n",
    "push=pb.push_note('Alert!! Unknown Enrty',text)"
   ]
  },
  {
   "cell_type": "code",
   "execution_count": null,
   "id": "7b72027d",
   "metadata": {},
   "outputs": [],
   "source": []
  }
 ],
 "metadata": {
  "kernelspec": {
   "display_name": "Python 3 (ipykernel)",
   "language": "python",
   "name": "python3"
  },
  "language_info": {
   "codemirror_mode": {
    "name": "ipython",
    "version": 3
   },
   "file_extension": ".py",
   "mimetype": "text/x-python",
   "name": "python",
   "nbconvert_exporter": "python",
   "pygments_lexer": "ipython3",
   "version": "3.7.3"
  }
 },
 "nbformat": 4,
 "nbformat_minor": 5
}
