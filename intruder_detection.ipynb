{
 "cells": [
  {
   "cell_type": "markdown",
   "id": "366202a6",
   "metadata": {},
   "source": [
    "# Installing preliminary dependencies"
   ]
  },
  {
   "cell_type": "code",
   "execution_count": 1,
   "id": "de6a066b",
   "metadata": {},
   "outputs": [],
   "source": [
    "import time\n",
    "from pymata4 import pymata4\n",
    "\n",
    "import face_recognition\n",
    "import imutils\n",
    "import pickle\n",
    "import cv2\n",
    "import os\n",
    "\n",
    "import smtplib\n",
    "import imghdr\n",
    "from email.message import EmailMessage # EmailMessage class helps to create a template for an email message\n",
    "\n",
    "from pushbullet import Pushbullet"
   ]
  },
  {
   "cell_type": "markdown",
   "id": "72292f64",
   "metadata": {},
   "source": [
    "# Prerequisites of face recognition"
   ]
  },
  {
   "cell_type": "code",
   "execution_count": 5,
   "id": "9a3cce67",
   "metadata": {},
   "outputs": [],
   "source": [
    "#find path of xml file containing haarcascade file \n",
    "cascPathface = os.path.dirname(cv2.__file__) + \"/data/haarcascade_frontalface_alt2.xml\"\n",
    "# load the harcaascade in the cascade classifier\n",
    "faceCascade = cv2.CascadeClassifier(cascPathface)\n",
    "# load the known faces and embeddings saved in last file\n",
    "data = pickle.loads(open('face_enc', \"rb\").read())\n",
    "\n",
    "directory = r'D:\\AI Projects\\New_Intruder'"
   ]
  },
  {
   "cell_type": "markdown",
   "id": "c20a3c68",
   "metadata": {},
   "source": [
    "# Prerequisites of sending email through python"
   ]
  },
  {
   "cell_type": "code",
   "execution_count": 3,
   "id": "7b0e3828",
   "metadata": {},
   "outputs": [],
   "source": [
    "EMAIL_ADDR = 'prajwalnayak2000@gmail.com'\n",
    "EMAIL_PASS = 'ldltqmpsmosxdjou'"
   ]
  },
  {
   "cell_type": "code",
   "execution_count": 4,
   "id": "2ea11662",
   "metadata": {},
   "outputs": [],
   "source": [
    "msg = EmailMessage()\n",
    "msg['Subject'] = 'Unknown Entry !!'\n",
    "msg['From'] = EMAIL_ADDR\n",
    "msg['To'] = EMAIL_ADDR\n",
    "msg.set_content('Unknown image attached...')"
   ]
  },
  {
   "cell_type": "markdown",
   "id": "fc735a39",
   "metadata": {},
   "source": [
    "# Prerequisites of sending notification through python"
   ]
  },
  {
   "cell_type": "code",
   "execution_count": 5,
   "id": "e1b12ea0",
   "metadata": {},
   "outputs": [],
   "source": [
    "API_KEY = \"o.QLICL6EDs86MVmUT2c0u8E8X0wxncQ8x\"\n",
    "file=\"notify/message.txt\"\n",
    "\n",
    "with open(file,mode='r') as f:\n",
    "    text=f.read()\n",
    "\n",
    "pb=Pushbullet(API_KEY)"
   ]
  },
  {
   "cell_type": "markdown",
   "id": "fc6b5475",
   "metadata": {},
   "source": [
    "# Functions"
   ]
  },
  {
   "cell_type": "code",
   "execution_count": 2,
   "id": "e9ccd95b",
   "metadata": {},
   "outputs": [],
   "source": [
    "def send_email(e):\n",
    "#     push=pb.push_note('Alert!! Unknown Enrty',text)\n",
    "    with open(\"intruder_{}.jpg\".format(e),'rb') as f:\n",
    "        file_data = f.read()\n",
    "        file_type = imghdr.what(f.name)\n",
    "        file_name =f.name\n",
    "\n",
    "    msg.add_attachment(file_data,maintype = 'image', subtype = file_type, filename = file_name)\n",
    "    \n",
    "    with smtplib.SMTP_SSL('smtp.gmail.com', 465) as smtp:\n",
    "        smtp.login(EMAIL_ADDR,EMAIL_PASS)\n",
    "        smtp.send_message(msg)"
   ]
  },
  {
   "cell_type": "code",
   "execution_count": 7,
   "id": "6385fcde",
   "metadata": {},
   "outputs": [],
   "source": [
    "def take_image():\n",
    "    print(\"Taking images!!\")\n",
    "    video_capture = cv2.VideoCapture(0)\n",
    "    os.chdir(directory)\n",
    "    for k in range(3):\n",
    "        # grab the frame from the threaded video stream\n",
    "        ret, frame = video_capture.read()\n",
    "#         gray = cv2.cvtColor(frame, cv2.COLOR_BGR2GRAY)\n",
    "        rgb = cv2.cvtColor(frame, cv2.COLOR_BGR2RGB)\n",
    "        filename='intruder_{}.jpg'.format(k)\n",
    "        cv2.imwrite(filename, frame)\n",
    "        cv2.imshow(\"Frame\", frame)\n",
    "        send_email(k)\n",
    "        if cv2.waitKey(1) & 0xFF == ord('q'):\n",
    "                break    \n",
    "    video_capture.release()\n",
    "    cv2.destroyAllWindows()"
   ]
  },
  {
   "cell_type": "code",
   "execution_count": 6,
   "id": "11aa7ea0",
   "metadata": {},
   "outputs": [],
   "source": [
    "def face_recog():\n",
    "    print(\"Taking images!!\")\n",
    "    video_capture = cv2.VideoCapture(0)\n",
    "    os.chdir(directory)\n",
    "    # loop over frames from the video file stream\n",
    "    for k in range(3):\n",
    "        # grab the frame from the threaded video stream\n",
    "        ret, frame = video_capture.read()\n",
    "        gray = cv2.cvtColor(frame, cv2.COLOR_BGR2GRAY)\n",
    "        faces = faceCascade.detectMultiScale(gray,\n",
    "                                             scaleFactor=1.1,\n",
    "                                             minNeighbors=5,\n",
    "                                             minSize=(60, 60),\n",
    "                                             flags=cv2.CASCADE_SCALE_IMAGE)\n",
    "     \n",
    "        # convert the input frame from BGR to RGB \n",
    "        rgb = cv2.cvtColor(frame, cv2.COLOR_BGR2RGB)\n",
    "        # the facial embeddings for face in input\n",
    "        encodings = face_recognition.face_encodings(rgb)\n",
    "        names = []\n",
    "        # loop over the facial embeddings incase\n",
    "        # we have multiple embeddings for multiple fcaes\n",
    "        for encoding in encodings:\n",
    "           #Compare encodings with encodings in data[\"encodings\"]\n",
    "           #Matches contain array with boolean values and True for the embeddings it matches closely\n",
    "           #and False for rest\n",
    "            matches = face_recognition.compare_faces(data[\"encodings\"],\n",
    "             encoding)\n",
    "            #set name =inknown if no encoding matches\n",
    "            name = \"Unknown\"\n",
    "            # check to see if we have found a match\n",
    "            if True in matches:\n",
    "                #Find positions at which we get True and store them\n",
    "                matchedIdxs = [i for (i, b) in enumerate(matches) if b]\n",
    "                counts = {}\n",
    "                # loop over the matched indexes and maintain a count for\n",
    "                # each recognized face face\n",
    "                for i in matchedIdxs:\n",
    "                    #Check the names at respective indexes we stored in matchedIdxs\n",
    "                    name = data[\"names\"][i]\n",
    "                    #increase count for the name we got\n",
    "                    counts[name] = counts.get(name, 0) + 1\n",
    "                #set name which has highest count\n",
    "                name = max(counts, key=counts.get)\n",
    "     \n",
    "     \n",
    "            # update the list of names\n",
    "            names.append(name)\n",
    "            # loop over the recognized faces\n",
    "            for ((x, y, w, h), name) in zip(faces, names):\n",
    "                # rescale the face coordinates\n",
    "                # draw the predicted face name on the image\n",
    "                cv2.rectangle(frame, (x, y), (x + w, y + h), (0, 255, 0), 2)\n",
    "                cv2.putText(frame, name, (x, y), cv2.FONT_HERSHEY_SIMPLEX,\n",
    "                 0.75, (0, 255, 0), 2)\n",
    "        \n",
    "        if name==\"Prajwal\":\n",
    "            filename='intruder_{}.jpg'.format(k)\n",
    "            cv2.imwrite(filename, frame)\n",
    "            cv2.imshow(\"Frame\", frame)\n",
    "#             send_email(k)\n",
    "        \n",
    "        if cv2.waitKey(1) & 0xFF == ord('q'):\n",
    "            break\n",
    "    video_capture.release()\n",
    "    cv2.destroyAllWindows()"
   ]
  },
  {
   "cell_type": "code",
   "execution_count": 7,
   "id": "1e66eb88",
   "metadata": {},
   "outputs": [
    {
     "name": "stdout",
     "output_type": "stream",
     "text": [
      "Taking images!!\n"
     ]
    }
   ],
   "source": [
    "face_recog()"
   ]
  },
  {
   "cell_type": "code",
   "execution_count": 10,
   "id": "7f17327f",
   "metadata": {},
   "outputs": [],
   "source": [
    "trig_pin=10\n",
    "echo_pin=11"
   ]
  },
  {
   "cell_type": "code",
   "execution_count": 11,
   "id": "c157bfeb",
   "metadata": {},
   "outputs": [
    {
     "name": "stdout",
     "output_type": "stream",
     "text": [
      "pymata4:  Version 1.15\n",
      "\n",
      "Copyright (c) 2020 Alan Yorinks All Rights Reserved.\n",
      "\n",
      "Opening all potential serial ports...\n",
      "\n",
      "Waiting 4 seconds(arduino_wait) for Arduino devices to reset...\n",
      "\n",
      "Searching for an Arduino configured with an arduino_instance = 1\n"
     ]
    },
    {
     "ename": "RuntimeError",
     "evalue": "arduino_instance_id does not match a value on the boards.",
     "output_type": "error",
     "traceback": [
      "\u001b[1;31m---------------------------------------------------------------------------\u001b[0m",
      "\u001b[1;31mRuntimeError\u001b[0m                              Traceback (most recent call last)",
      "\u001b[1;32m~\\AppData\\Local\\Temp\\ipykernel_17428\\572798603.py\u001b[0m in \u001b[0;36m<module>\u001b[1;34m\u001b[0m\n\u001b[1;32m----> 1\u001b[1;33m \u001b[0mboard\u001b[0m\u001b[1;33m=\u001b[0m\u001b[0mpymata4\u001b[0m\u001b[1;33m.\u001b[0m\u001b[0mPymata4\u001b[0m\u001b[1;33m(\u001b[0m\u001b[1;33m)\u001b[0m\u001b[1;33m\u001b[0m\u001b[1;33m\u001b[0m\u001b[0m\n\u001b[0m",
      "\u001b[1;32mC:\\ProgramData\\Anaconda3\\lib\\site-packages\\pymata4\\pymata4.py\u001b[0m in \u001b[0;36m__init__\u001b[1;34m(self, com_port, baud_rate, arduino_instance_id, arduino_wait, sleep_tune, shutdown_on_exception, ip_address, ip_port)\u001b[0m\n\u001b[0;32m    233\u001b[0m                 \u001b[1;31m# user did not specify a com_port\u001b[0m\u001b[1;33m\u001b[0m\u001b[1;33m\u001b[0m\u001b[1;33m\u001b[0m\u001b[0m\n\u001b[0;32m    234\u001b[0m                 \u001b[1;32mtry\u001b[0m\u001b[1;33m:\u001b[0m\u001b[1;33m\u001b[0m\u001b[1;33m\u001b[0m\u001b[0m\n\u001b[1;32m--> 235\u001b[1;33m                     \u001b[0mself\u001b[0m\u001b[1;33m.\u001b[0m\u001b[0m_find_arduino\u001b[0m\u001b[1;33m(\u001b[0m\u001b[1;33m)\u001b[0m\u001b[1;33m\u001b[0m\u001b[1;33m\u001b[0m\u001b[0m\n\u001b[0m\u001b[0;32m    236\u001b[0m                 \u001b[1;32mexcept\u001b[0m \u001b[0mKeyboardInterrupt\u001b[0m\u001b[1;33m:\u001b[0m\u001b[1;33m\u001b[0m\u001b[1;33m\u001b[0m\u001b[0m\n\u001b[0;32m    237\u001b[0m                     \u001b[1;32mif\u001b[0m \u001b[0mself\u001b[0m\u001b[1;33m.\u001b[0m\u001b[0mshutdown_on_exception\u001b[0m\u001b[1;33m:\u001b[0m\u001b[1;33m\u001b[0m\u001b[1;33m\u001b[0m\u001b[0m\n",
      "\u001b[1;32mC:\\ProgramData\\Anaconda3\\lib\\site-packages\\pymata4\\pymata4.py\u001b[0m in \u001b[0;36m_find_arduino\u001b[1;34m(self)\u001b[0m\n\u001b[0;32m    402\u001b[0m \u001b[1;33m\u001b[0m\u001b[0m\n\u001b[0;32m    403\u001b[0m             \u001b[1;31m# did not find a match anywehre\u001b[0m\u001b[1;33m\u001b[0m\u001b[1;33m\u001b[0m\u001b[1;33m\u001b[0m\u001b[0m\n\u001b[1;32m--> 404\u001b[1;33m             raise RuntimeError(f'arduino_instance_id does not match '\n\u001b[0m\u001b[0;32m    405\u001b[0m                                            f'a value on the boards.')\n\u001b[0;32m    406\u001b[0m         \u001b[1;32mexcept\u001b[0m \u001b[0mKeyboardInterrupt\u001b[0m\u001b[1;33m:\u001b[0m\u001b[1;33m\u001b[0m\u001b[1;33m\u001b[0m\u001b[0m\n",
      "\u001b[1;31mRuntimeError\u001b[0m: arduino_instance_id does not match a value on the boards."
     ]
    }
   ],
   "source": [
    "board=pymata4.Pymata4()"
   ]
  },
  {
   "cell_type": "code",
   "execution_count": null,
   "id": "f038c25f",
   "metadata": {},
   "outputs": [],
   "source": [
    "def the_callback(data):\n",
    "    dist=data[2]\n",
    "    print(\"Distance in cm = \",dist)\n",
    "    if(dist<10):\n",
    "        take_image()"
   ]
  },
  {
   "cell_type": "code",
   "execution_count": null,
   "id": "db5b1550",
   "metadata": {
    "scrolled": true
   },
   "outputs": [],
   "source": [
    "board.set_pin_mode_sonar(trig_pin,echo_pin,the_callback)\n",
    "\n",
    "while True:\n",
    "    try:\n",
    "        time.sleep(1)\n",
    "        board.sonar_read(trig_pin)\n",
    "    except Exception:\n",
    "        board.shutdown()"
   ]
  },
  {
   "cell_type": "code",
   "execution_count": null,
   "id": "8edf0618",
   "metadata": {},
   "outputs": [],
   "source": [
    "video_capture.release()\n",
    "cv2.destroyAllWindows()"
   ]
  },
  {
   "cell_type": "code",
   "execution_count": null,
   "id": "b43d580e",
   "metadata": {},
   "outputs": [],
   "source": []
  }
 ],
 "metadata": {
  "kernelspec": {
   "display_name": "Python 3 (ipykernel)",
   "language": "python",
   "name": "python3"
  },
  "language_info": {
   "codemirror_mode": {
    "name": "ipython",
    "version": 3
   },
   "file_extension": ".py",
   "mimetype": "text/x-python",
   "name": "python",
   "nbconvert_exporter": "python",
   "pygments_lexer": "ipython3",
   "version": "3.7.3"
  }
 },
 "nbformat": 4,
 "nbformat_minor": 5
}
